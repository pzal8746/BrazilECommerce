{
 "cells": [
  {
   "cell_type": "code",
   "execution_count": 1,
   "metadata": {},
   "outputs": [],
   "source": [
    "# Import libraries\n",
    "import pandas as pd\n",
    "import numpy as np\n",
    "import os\n",
    "import matplotlib.pyplot as plt\n",
    "import seaborn as sns\n",
    "import datetime"
   ]
  },
  {
   "cell_type": "code",
   "execution_count": 2,
   "metadata": {},
   "outputs": [],
   "source": [
    "# read previously created csv file into datframe\n",
    "df = pd.read_csv('C:\\\\Users\\\\phili\\\\Documents\\\\Downloads\\\\BrazilCapstone\\\\data.csv')"
   ]
  },
  {
   "cell_type": "code",
   "execution_count": 3,
   "metadata": {},
   "outputs": [
    {
     "name": "stdout",
     "output_type": "stream",
     "text": [
      "<class 'pandas.core.frame.DataFrame'>\n",
      "RangeIndex: 101270 entries, 0 to 101269\n",
      "Data columns (total 6 columns):\n",
      " #   Column          Non-Null Count   Dtype  \n",
      "---  ------          --------------   -----  \n",
      " 0   Unnamed: 0      101270 non-null  int64  \n",
      " 1   Customer ID     101270 non-null  object \n",
      " 2   Order_Id        101270 non-null  object \n",
      " 3   Order Date      101270 non-null  object \n",
      " 4   Price           101270 non-null  float64\n",
      " 5   customer_state  101270 non-null  object \n",
      "dtypes: float64(1), int64(1), object(4)\n",
      "memory usage: 4.6+ MB\n"
     ]
    }
   ],
   "source": [
    "df.info()"
   ]
  },
  {
   "cell_type": "code",
   "execution_count": 4,
   "metadata": {},
   "outputs": [],
   "source": [
    "#drop unnamed column\n",
    "df = df.drop('Unnamed: 0',axis=1)"
   ]
  },
  {
   "cell_type": "code",
   "execution_count": 5,
   "metadata": {},
   "outputs": [
    {
     "name": "stdout",
     "output_type": "stream",
     "text": [
      "<class 'pandas.core.frame.DataFrame'>\n",
      "RangeIndex: 101270 entries, 0 to 101269\n",
      "Data columns (total 5 columns):\n",
      " #   Column          Non-Null Count   Dtype  \n",
      "---  ------          --------------   -----  \n",
      " 0   Customer ID     101270 non-null  object \n",
      " 1   Order_Id        101270 non-null  object \n",
      " 2   Order Date      101270 non-null  object \n",
      " 3   Price           101270 non-null  float64\n",
      " 4   customer_state  101270 non-null  object \n",
      "dtypes: float64(1), object(4)\n",
      "memory usage: 3.9+ MB\n"
     ]
    }
   ],
   "source": [
    "# Columns contain no null values\n",
    "df.info()"
   ]
  },
  {
   "cell_type": "code",
   "execution_count": 6,
   "metadata": {},
   "outputs": [
    {
     "name": "stdout",
     "output_type": "stream",
     "text": [
      "2018-09-03 00:00:00\n"
     ]
    }
   ],
   "source": [
    "# Select the date for recency comparison \n",
    "reviewdate = pd.to_datetime(df['Order Date'].max())\n",
    "print(reviewdate)"
   ]
  },
  {
   "cell_type": "code",
   "execution_count": 7,
   "metadata": {},
   "outputs": [],
   "source": [
    "# convert Order Date and create daysbetween column for recency calculation\n",
    "df['Order Date'] = pd.to_datetime(df['Order Date'])\n",
    "\n",
    "df['recency'] = ((reviewdate - df['Order Date'])/ np.timedelta64(1, 'D')).astype(int)"
   ]
  },
  {
   "cell_type": "code",
   "execution_count": 8,
   "metadata": {},
   "outputs": [],
   "source": [
    "#create frequncy column\n",
    "frequency = df.groupby('Customer ID')['Order_Id'].nunique().reset_index()\n",
    "df = df.merge(frequency, on='Customer ID')"
   ]
  },
  {
   "cell_type": "code",
   "execution_count": 9,
   "metadata": {},
   "outputs": [],
   "source": [
    "#column monetary column\n",
    "monetary = df.groupby('Customer ID')['Price'].sum().reset_index()\n",
    "df = df.merge(monetary, on='Customer ID')"
   ]
  },
  {
   "cell_type": "code",
   "execution_count": 10,
   "metadata": {},
   "outputs": [
    {
     "data": {
      "text/html": [
       "<div>\n",
       "<style scoped>\n",
       "    .dataframe tbody tr th:only-of-type {\n",
       "        vertical-align: middle;\n",
       "    }\n",
       "\n",
       "    .dataframe tbody tr th {\n",
       "        vertical-align: top;\n",
       "    }\n",
       "\n",
       "    .dataframe thead th {\n",
       "        text-align: right;\n",
       "    }\n",
       "</style>\n",
       "<table border=\"1\" class=\"dataframe\">\n",
       "  <thead>\n",
       "    <tr style=\"text-align: right;\">\n",
       "      <th></th>\n",
       "      <th>Customer ID</th>\n",
       "      <th>Order_Id_x</th>\n",
       "      <th>Order Date</th>\n",
       "      <th>Price_x</th>\n",
       "      <th>customer_state</th>\n",
       "      <th>recency</th>\n",
       "      <th>Order_Id_y</th>\n",
       "      <th>Price_y</th>\n",
       "    </tr>\n",
       "  </thead>\n",
       "  <tbody>\n",
       "    <tr>\n",
       "      <th>0</th>\n",
       "      <td>7ac26eac431c6848694a2de6f0327524</td>\n",
       "      <td>00125cb692d04887809806618a2a145f</td>\n",
       "      <td>2017-03-23</td>\n",
       "      <td>109.9</td>\n",
       "      <td>GO</td>\n",
       "      <td>529</td>\n",
       "      <td>1</td>\n",
       "      <td>109.9</td>\n",
       "    </tr>\n",
       "    <tr>\n",
       "      <th>1</th>\n",
       "      <td>106106992030e0d83e6f1bc9d4054070</td>\n",
       "      <td>00571ded73b3c061925584feab0db425</td>\n",
       "      <td>2017-05-18</td>\n",
       "      <td>179.9</td>\n",
       "      <td>MG</td>\n",
       "      <td>473</td>\n",
       "      <td>1</td>\n",
       "      <td>179.9</td>\n",
       "    </tr>\n",
       "    <tr>\n",
       "      <th>2</th>\n",
       "      <td>fd01a8dd276ac93aec73fde385389de9</td>\n",
       "      <td>006dd93155bc2abd844cc5eed3a0fe7f</td>\n",
       "      <td>2017-12-02</td>\n",
       "      <td>49.9</td>\n",
       "      <td>SP</td>\n",
       "      <td>275</td>\n",
       "      <td>1</td>\n",
       "      <td>49.9</td>\n",
       "    </tr>\n",
       "    <tr>\n",
       "      <th>3</th>\n",
       "      <td>1d74273c053909be057f50f65b48522f</td>\n",
       "      <td>00946f674d880be1f188abc10ad7cf46</td>\n",
       "      <td>2017-12-09</td>\n",
       "      <td>99.9</td>\n",
       "      <td>SP</td>\n",
       "      <td>268</td>\n",
       "      <td>1</td>\n",
       "      <td>99.9</td>\n",
       "    </tr>\n",
       "    <tr>\n",
       "      <th>4</th>\n",
       "      <td>c7e193525b2825ccfe5c65875c0db1dc</td>\n",
       "      <td>00a0116ff15ff973ea16bee881208ae7</td>\n",
       "      <td>2018-02-18</td>\n",
       "      <td>149.0</td>\n",
       "      <td>MS</td>\n",
       "      <td>197</td>\n",
       "      <td>1</td>\n",
       "      <td>149.0</td>\n",
       "    </tr>\n",
       "  </tbody>\n",
       "</table>\n",
       "</div>"
      ],
      "text/plain": [
       "                        Customer ID                        Order_Id_x  \\\n",
       "0  7ac26eac431c6848694a2de6f0327524  00125cb692d04887809806618a2a145f   \n",
       "1  106106992030e0d83e6f1bc9d4054070  00571ded73b3c061925584feab0db425   \n",
       "2  fd01a8dd276ac93aec73fde385389de9  006dd93155bc2abd844cc5eed3a0fe7f   \n",
       "3  1d74273c053909be057f50f65b48522f  00946f674d880be1f188abc10ad7cf46   \n",
       "4  c7e193525b2825ccfe5c65875c0db1dc  00a0116ff15ff973ea16bee881208ae7   \n",
       "\n",
       "  Order Date  Price_x customer_state  recency  Order_Id_y  Price_y  \n",
       "0 2017-03-23    109.9             GO      529           1    109.9  \n",
       "1 2017-05-18    179.9             MG      473           1    179.9  \n",
       "2 2017-12-02     49.9             SP      275           1     49.9  \n",
       "3 2017-12-09     99.9             SP      268           1     99.9  \n",
       "4 2018-02-18    149.0             MS      197           1    149.0  "
      ]
     },
     "execution_count": 10,
     "metadata": {},
     "output_type": "execute_result"
    }
   ],
   "source": [
    "df.head()"
   ]
  },
  {
   "cell_type": "code",
   "execution_count": 11,
   "metadata": {},
   "outputs": [],
   "source": [
    "# rename columns accordingly\n",
    "df = df.rename(columns = {'Order_Id_y':'frequency', 'Price_y':'monetary'})"
   ]
  },
  {
   "cell_type": "code",
   "execution_count": 12,
   "metadata": {},
   "outputs": [
    {
     "data": {
      "text/html": [
       "<div>\n",
       "<style scoped>\n",
       "    .dataframe tbody tr th:only-of-type {\n",
       "        vertical-align: middle;\n",
       "    }\n",
       "\n",
       "    .dataframe tbody tr th {\n",
       "        vertical-align: top;\n",
       "    }\n",
       "\n",
       "    .dataframe thead th {\n",
       "        text-align: right;\n",
       "    }\n",
       "</style>\n",
       "<table border=\"1\" class=\"dataframe\">\n",
       "  <thead>\n",
       "    <tr style=\"text-align: right;\">\n",
       "      <th></th>\n",
       "      <th>Customer ID</th>\n",
       "      <th>Order_Id_x</th>\n",
       "      <th>Order Date</th>\n",
       "      <th>Price_x</th>\n",
       "      <th>customer_state</th>\n",
       "      <th>recency</th>\n",
       "      <th>frequency</th>\n",
       "      <th>monetary</th>\n",
       "    </tr>\n",
       "  </thead>\n",
       "  <tbody>\n",
       "    <tr>\n",
       "      <th>0</th>\n",
       "      <td>7ac26eac431c6848694a2de6f0327524</td>\n",
       "      <td>00125cb692d04887809806618a2a145f</td>\n",
       "      <td>2017-03-23</td>\n",
       "      <td>109.9</td>\n",
       "      <td>GO</td>\n",
       "      <td>529</td>\n",
       "      <td>1</td>\n",
       "      <td>109.9</td>\n",
       "    </tr>\n",
       "    <tr>\n",
       "      <th>1</th>\n",
       "      <td>106106992030e0d83e6f1bc9d4054070</td>\n",
       "      <td>00571ded73b3c061925584feab0db425</td>\n",
       "      <td>2017-05-18</td>\n",
       "      <td>179.9</td>\n",
       "      <td>MG</td>\n",
       "      <td>473</td>\n",
       "      <td>1</td>\n",
       "      <td>179.9</td>\n",
       "    </tr>\n",
       "    <tr>\n",
       "      <th>2</th>\n",
       "      <td>fd01a8dd276ac93aec73fde385389de9</td>\n",
       "      <td>006dd93155bc2abd844cc5eed3a0fe7f</td>\n",
       "      <td>2017-12-02</td>\n",
       "      <td>49.9</td>\n",
       "      <td>SP</td>\n",
       "      <td>275</td>\n",
       "      <td>1</td>\n",
       "      <td>49.9</td>\n",
       "    </tr>\n",
       "    <tr>\n",
       "      <th>3</th>\n",
       "      <td>1d74273c053909be057f50f65b48522f</td>\n",
       "      <td>00946f674d880be1f188abc10ad7cf46</td>\n",
       "      <td>2017-12-09</td>\n",
       "      <td>99.9</td>\n",
       "      <td>SP</td>\n",
       "      <td>268</td>\n",
       "      <td>1</td>\n",
       "      <td>99.9</td>\n",
       "    </tr>\n",
       "    <tr>\n",
       "      <th>4</th>\n",
       "      <td>c7e193525b2825ccfe5c65875c0db1dc</td>\n",
       "      <td>00a0116ff15ff973ea16bee881208ae7</td>\n",
       "      <td>2018-02-18</td>\n",
       "      <td>149.0</td>\n",
       "      <td>MS</td>\n",
       "      <td>197</td>\n",
       "      <td>1</td>\n",
       "      <td>149.0</td>\n",
       "    </tr>\n",
       "  </tbody>\n",
       "</table>\n",
       "</div>"
      ],
      "text/plain": [
       "                        Customer ID                        Order_Id_x  \\\n",
       "0  7ac26eac431c6848694a2de6f0327524  00125cb692d04887809806618a2a145f   \n",
       "1  106106992030e0d83e6f1bc9d4054070  00571ded73b3c061925584feab0db425   \n",
       "2  fd01a8dd276ac93aec73fde385389de9  006dd93155bc2abd844cc5eed3a0fe7f   \n",
       "3  1d74273c053909be057f50f65b48522f  00946f674d880be1f188abc10ad7cf46   \n",
       "4  c7e193525b2825ccfe5c65875c0db1dc  00a0116ff15ff973ea16bee881208ae7   \n",
       "\n",
       "  Order Date  Price_x customer_state  recency  frequency  monetary  \n",
       "0 2017-03-23    109.9             GO      529          1     109.9  \n",
       "1 2017-05-18    179.9             MG      473          1     179.9  \n",
       "2 2017-12-02     49.9             SP      275          1      49.9  \n",
       "3 2017-12-09     99.9             SP      268          1      99.9  \n",
       "4 2018-02-18    149.0             MS      197          1     149.0  "
      ]
     },
     "execution_count": 12,
     "metadata": {},
     "output_type": "execute_result"
    }
   ],
   "source": [
    "df.head()"
   ]
  },
  {
   "cell_type": "code",
   "execution_count": 13,
   "metadata": {},
   "outputs": [
    {
     "data": {
      "image/png": "[encoded data removed]",
      "text/plain": [
       "<Figure size 864x720 with 2 Axes>"
      ]
     },
     "metadata": {
      "needs_background": "light"
     },
     "output_type": "display_data"
    }
   ],
   "source": [
    "# Generate a heatmap from df\n",
    "plt.subplots(figsize=(12,10))\n",
    "sns.heatmap(df.corr());"
   ]
  },
  {
   "cell_type": "markdown",
   "metadata": {},
   "source": [
    "Based on the above generated heatmap, the customers from the website are buying frequently but not spending a large amount on a per customer basis. I will attempt to predict if these trend continyues in the future, if so I will further attempt to address the cause."
   ]
  },
  {
   "cell_type": "code",
   "execution_count": null,
   "metadata": {},
   "outputs": [],
   "source": []
  }
 ],
 "metadata": {
  "kernelspec": {
   "display_name": "Python 3",
   "language": "python",
   "name": "python3"
  },
  "language_info": {
   "codemirror_mode": {
    "name": "ipython",
    "version": 3
   },
   "file_extension": ".py",
   "mimetype": "text/x-python",
   "name": "python",
   "nbconvert_exporter": "python",
   "pygments_lexer": "ipython3",
   "version": "3.8.5"
  }
 },
 "nbformat": 4,
 "nbformat_minor": 4
}
