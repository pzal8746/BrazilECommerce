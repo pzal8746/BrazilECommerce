{
 "cells": [
  {
   "cell_type": "code",
   "execution_count": 1,
   "metadata": {},
   "outputs": [],
   "source": [
    "# Import libraries\n",
    "import pandas as pd\n",
    "import numpy as np\n",
    "import os\n",
    "import matplotlib.pyplot as plt\n",
    "import seaborn as sns\n",
    "import datetime"
   ]
  },
  {
   "cell_type": "code",
   "execution_count": 2,
   "metadata": {},
   "outputs": [],
   "source": [
    "# read previously created csv file into datframe\n",
    "df = pd.read_csv('C:\\\\Users\\\\phili\\\\Documents\\\\Downloads\\\\BrazilCapstone\\\\data.csv')"
   ]
  },
  {
   "cell_type": "code",
   "execution_count": 3,
   "metadata": {},
   "outputs": [
    {
     "name": "stdout",
     "output_type": "stream",
     "text": [
      "<class 'pandas.core.frame.DataFrame'>\n",
      "RangeIndex: 101270 entries, 0 to 101269\n",
      "Data columns (total 6 columns):\n",
      " #   Column          Non-Null Count   Dtype  \n",
      "---  ------          --------------   -----  \n",
      " 0   Unnamed: 0      101270 non-null  int64  \n",
      " 1   Customer ID     101270 non-null  object \n",
      " 2   Order_Id        101270 non-null  object \n",
      " 3   Order Date      101270 non-null  object \n",
      " 4   Price           101270 non-null  float64\n",
      " 5   customer_state  101270 non-null  object \n",
      "dtypes: float64(1), int64(1), object(4)\n",
      "memory usage: 4.6+ MB\n"
     ]
    }
   ],
   "source": [
    "df.info()"
   ]
  },
  {
   "cell_type": "code",
   "execution_count": 4,
   "metadata": {},
   "outputs": [],
   "source": [
    "#drop unnamed column\n",
    "df = df.drop('Unnamed: 0',axis=1)"
   ]
  },
  {
   "cell_type": "code",
   "execution_count": 5,
   "metadata": {},
   "outputs": [
    {
     "name": "stdout",
     "output_type": "stream",
     "text": [
      "<class 'pandas.core.frame.DataFrame'>\n",
      "RangeIndex: 101270 entries, 0 to 101269\n",
      "Data columns (total 5 columns):\n",
      " #   Column          Non-Null Count   Dtype  \n",
      "---  ------          --------------   -----  \n",
      " 0   Customer ID     101270 non-null  object \n",
      " 1   Order_Id        101270 non-null  object \n",
      " 2   Order Date      101270 non-null  object \n",
      " 3   Price           101270 non-null  float64\n",
      " 4   customer_state  101270 non-null  object \n",
      "dtypes: float64(1), object(4)\n",
      "memory usage: 3.9+ MB\n"
     ]
    }
   ],
   "source": [
    "# Columns contain no null values\n",
    "df.info()"
   ]
  },
  {
   "cell_type": "code",
   "execution_count": 6,
   "metadata": {},
   "outputs": [
    {
     "name": "stdout",
     "output_type": "stream",
     "text": [
      "2018-09-03 00:00:00\n"
     ]
    }
   ],
   "source": [
    "# Select the date for recency comparison \n",
    "reviewdate = pd.to_datetime(df['Order Date'].max())\n",
    "print(reviewdate)"
   ]
  },
  {
   "cell_type": "code",
   "execution_count": 7,
   "metadata": {},
   "outputs": [
    {
     "name": "stdout",
     "output_type": "stream",
     "text": [
      "<class 'pandas.core.frame.DataFrame'>\n",
      "RangeIndex: 101270 entries, 0 to 101269\n",
      "Data columns (total 6 columns):\n",
      " #   Column          Non-Null Count   Dtype          \n",
      "---  ------          --------------   -----          \n",
      " 0   Customer ID     101270 non-null  object         \n",
      " 1   Order_Id        101270 non-null  object         \n",
      " 2   Order Date      101270 non-null  datetime64[ns] \n",
      " 3   Price           101270 non-null  float64        \n",
      " 4   customer_state  101270 non-null  object         \n",
      " 5   daysbetween     101270 non-null  timedelta64[ns]\n",
      "dtypes: datetime64[ns](1), float64(1), object(3), timedelta64[ns](1)\n",
      "memory usage: 4.6+ MB\n"
     ]
    }
   ],
   "source": [
    "# convert Order Date and create daysbetween column for recency calculation\n",
    "df['Order Date'] = pd.to_datetime(df['Order Date'])\n",
    "\n",
    "df['daysbetween'] = reviewdate - df['Order Date']\n",
    "\n",
    "df.info()"
   ]
  },
  {
   "cell_type": "code",
   "execution_count": 8,
   "metadata": {},
   "outputs": [
    {
     "name": "stdout",
     "output_type": "stream",
     "text": [
      "                                  Recency  Frequency  MonetaryValue\n",
      "Customer ID                                                        \n",
      "0000366f3b9a7992bf8c76cfdf3221e2        1          1         129.90\n",
      "0000b849f77a49e4a4ce2b2a4ca5be3f        1          1          18.90\n",
      "0000f46a3911fa3c0805444483337064        1          1          69.00\n",
      "0000f6ccb0745a6a4b88665a16c9f078        1          1          25.99\n",
      "0004aac84e0df4da2b147fca70cf8255        1          1         180.00\n"
     ]
    }
   ],
   "source": [
    "#Calculate Recency, Frequency and Monetary value for each customer \n",
    "df = df.groupby(['Customer ID']).agg({\n",
    "    'daysbetween': 'count',\n",
    "    'Order_Id': 'count',\n",
    "    'Price': 'sum'})\n",
    "\n",
    "# Rename the columns \n",
    "df.rename(columns={'daysbetween': 'Recency',\n",
    "                         'Order_Id': 'Frequency',\n",
    "                         'Price': 'MonetaryValue'}, inplace=True)\n",
    "# Print top 5 rows\n",
    "print(df.head())"
   ]
  },
  {
   "cell_type": "code",
   "execution_count": 9,
   "metadata": {},
   "outputs": [
    {
     "data": {
      "image/png": "[encoded data removed]",
      "text/plain": [
       "<Figure size 864x720 with 2 Axes>"
      ]
     },
     "metadata": {
      "needs_background": "light"
     },
     "output_type": "display_data"
    }
   ],
   "source": [
    "# Generate a heatmap from df\n",
    "plt.subplots(figsize=(12,10))\n",
    "sns.heatmap(df.corr());"
   ]
  },
  {
   "cell_type": "markdown",
   "metadata": {},
   "source": [
    "Based on the above generated heatmap, the customers from the website are buying frequently but not spending a large amount on a per customer basis.  I will attempt to predict if these trend continyues in the future, if so I will further attempt to address the cause."
   ]
  }
 ],
 "metadata": {
  "kernelspec": {
   "display_name": "Python 3",
   "language": "python",
   "name": "python3"
  },
  "language_info": {
   "codemirror_mode": {
    "name": "ipython",
    "version": 3
   },
   "file_extension": ".py",
   "mimetype": "text/x-python",
   "name": "python",
   "nbconvert_exporter": "python",
   "pygments_lexer": "ipython3",
   "version": "3.8.5"
  }
 },
 "nbformat": 4,
 "nbformat_minor": 4
}
