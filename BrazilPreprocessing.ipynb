{
 "cells": [
  {
   "cell_type": "code",
   "execution_count": 1,
   "metadata": {},
   "outputs": [],
   "source": [
    "import pandas as pd\n",
    "import numpy as np\n",
    "import seaborn as sns"
   ]
  },
  {
   "cell_type": "code",
   "execution_count": 2,
   "metadata": {},
   "outputs": [],
   "source": [
    "# read previously created csv file into datframe\n",
    "# k means works better with symmetrically distributed variables\n",
    "rfm = pd.read_csv('C:\\\\Users\\\\phili\\\\Documents\\\\Downloads\\\\BrazilCapstone\\\\rfm.csv')"
   ]
  },
  {
   "cell_type": "code",
   "execution_count": 3,
   "metadata": {},
   "outputs": [
    {
     "data": {
      "text/html": [
       "<div>\n",
       "<style scoped>\n",
       "    .dataframe tbody tr th:only-of-type {\n",
       "        vertical-align: middle;\n",
       "    }\n",
       "\n",
       "    .dataframe tbody tr th {\n",
       "        vertical-align: top;\n",
       "    }\n",
       "\n",
       "    .dataframe thead th {\n",
       "        text-align: right;\n",
       "    }\n",
       "</style>\n",
       "<table border=\"1\" class=\"dataframe\">\n",
       "  <thead>\n",
       "    <tr style=\"text-align: right;\">\n",
       "      <th></th>\n",
       "      <th>Unnamed: 0</th>\n",
       "      <th>Customer ID</th>\n",
       "      <th>Order_Id_x</th>\n",
       "      <th>Order Date</th>\n",
       "      <th>Price_x</th>\n",
       "      <th>customer_state</th>\n",
       "      <th>recency</th>\n",
       "      <th>frequency</th>\n",
       "      <th>monetary</th>\n",
       "    </tr>\n",
       "  </thead>\n",
       "  <tbody>\n",
       "    <tr>\n",
       "      <th>0</th>\n",
       "      <td>0</td>\n",
       "      <td>7ac26eac431c6848694a2de6f0327524</td>\n",
       "      <td>00125cb692d04887809806618a2a145f</td>\n",
       "      <td>2017-03-23</td>\n",
       "      <td>109.9</td>\n",
       "      <td>GO</td>\n",
       "      <td>529</td>\n",
       "      <td>1</td>\n",
       "      <td>109.9</td>\n",
       "    </tr>\n",
       "    <tr>\n",
       "      <th>1</th>\n",
       "      <td>1</td>\n",
       "      <td>106106992030e0d83e6f1bc9d4054070</td>\n",
       "      <td>00571ded73b3c061925584feab0db425</td>\n",
       "      <td>2017-05-18</td>\n",
       "      <td>179.9</td>\n",
       "      <td>MG</td>\n",
       "      <td>473</td>\n",
       "      <td>1</td>\n",
       "      <td>179.9</td>\n",
       "    </tr>\n",
       "    <tr>\n",
       "      <th>2</th>\n",
       "      <td>2</td>\n",
       "      <td>fd01a8dd276ac93aec73fde385389de9</td>\n",
       "      <td>006dd93155bc2abd844cc5eed3a0fe7f</td>\n",
       "      <td>2017-12-02</td>\n",
       "      <td>49.9</td>\n",
       "      <td>SP</td>\n",
       "      <td>275</td>\n",
       "      <td>1</td>\n",
       "      <td>49.9</td>\n",
       "    </tr>\n",
       "    <tr>\n",
       "      <th>3</th>\n",
       "      <td>3</td>\n",
       "      <td>1d74273c053909be057f50f65b48522f</td>\n",
       "      <td>00946f674d880be1f188abc10ad7cf46</td>\n",
       "      <td>2017-12-09</td>\n",
       "      <td>99.9</td>\n",
       "      <td>SP</td>\n",
       "      <td>268</td>\n",
       "      <td>1</td>\n",
       "      <td>99.9</td>\n",
       "    </tr>\n",
       "    <tr>\n",
       "      <th>4</th>\n",
       "      <td>4</td>\n",
       "      <td>c7e193525b2825ccfe5c65875c0db1dc</td>\n",
       "      <td>00a0116ff15ff973ea16bee881208ae7</td>\n",
       "      <td>2018-02-18</td>\n",
       "      <td>149.0</td>\n",
       "      <td>MS</td>\n",
       "      <td>197</td>\n",
       "      <td>1</td>\n",
       "      <td>149.0</td>\n",
       "    </tr>\n",
       "  </tbody>\n",
       "</table>\n",
       "</div>"
      ],
      "text/plain": [
       "   Unnamed: 0                       Customer ID  \\\n",
       "0           0  7ac26eac431c6848694a2de6f0327524   \n",
       "1           1  106106992030e0d83e6f1bc9d4054070   \n",
       "2           2  fd01a8dd276ac93aec73fde385389de9   \n",
       "3           3  1d74273c053909be057f50f65b48522f   \n",
       "4           4  c7e193525b2825ccfe5c65875c0db1dc   \n",
       "\n",
       "                         Order_Id_x  Order Date  Price_x customer_state  \\\n",
       "0  00125cb692d04887809806618a2a145f  2017-03-23    109.9             GO   \n",
       "1  00571ded73b3c061925584feab0db425  2017-05-18    179.9             MG   \n",
       "2  006dd93155bc2abd844cc5eed3a0fe7f  2017-12-02     49.9             SP   \n",
       "3  00946f674d880be1f188abc10ad7cf46  2017-12-09     99.9             SP   \n",
       "4  00a0116ff15ff973ea16bee881208ae7  2018-02-18    149.0             MS   \n",
       "\n",
       "   recency  frequency  monetary  \n",
       "0      529          1     109.9  \n",
       "1      473          1     179.9  \n",
       "2      275          1      49.9  \n",
       "3      268          1      99.9  \n",
       "4      197          1     149.0  "
      ]
     },
     "execution_count": 3,
     "metadata": {},
     "output_type": "execute_result"
    }
   ],
   "source": [
    "rfm.head()"
   ]
  },
  {
   "cell_type": "code",
   "execution_count": 4,
   "metadata": {},
   "outputs": [
    {
     "name": "stdout",
     "output_type": "stream",
     "text": [
      "                        Customer ID  Order Date  recency  frequency  monetary\n",
      "0  7ac26eac431c6848694a2de6f0327524  2017-03-23      529          1     109.9\n",
      "1  106106992030e0d83e6f1bc9d4054070  2017-05-18      473          1     179.9\n",
      "2  fd01a8dd276ac93aec73fde385389de9  2017-12-02      275          1      49.9\n",
      "3  1d74273c053909be057f50f65b48522f  2017-12-09      268          1      99.9\n",
      "4  c7e193525b2825ccfe5c65875c0db1dc  2018-02-18      197          1     149.0\n"
     ]
    }
   ],
   "source": [
    "rfm = rfm[['Customer ID', 'Order Date', 'recency', 'frequency', 'monetary']]\n",
    "print(rfm.head())"
   ]
  },
  {
   "cell_type": "code",
   "execution_count": 5,
   "metadata": {},
   "outputs": [
    {
     "data": {
      "image/png": "[encoded data removed]",
      "text/plain": [
       "<Figure size 360x360 with 1 Axes>"
      ]
     },
     "metadata": {
      "needs_background": "light"
     },
     "output_type": "display_data"
    }
   ],
   "source": [
    "# distribution plot of recency\n",
    "ax = sns.displot(rfm['recency'])"
   ]
  },
  {
   "cell_type": "code",
   "execution_count": 6,
   "metadata": {},
   "outputs": [
    {
     "data": {
      "image/png": "[encoded data removed]",
      "text/plain": [
       "<Figure size 360x360 with 1 Axes>"
      ]
     },
     "metadata": {
      "needs_background": "light"
     },
     "output_type": "display_data"
    }
   ],
   "source": [
    "# distribution plot of frequency\n",
    "ax = sns.displot(rfm['frequency'])"
   ]
  },
  {
   "cell_type": "code",
   "execution_count": 7,
   "metadata": {},
   "outputs": [
    {
     "data": {
      "image/png": "[encoded data removed]",
      "text/plain": [
       "<Figure size 360x360 with 1 Axes>"
      ]
     },
     "metadata": {
      "needs_background": "light"
     },
     "output_type": "display_data"
    }
   ],
   "source": [
    "# distribution plot of monetary\n",
    "ax = sns.displot(rfm['monetary'])"
   ]
  },
  {
   "cell_type": "markdown",
   "metadata": {},
   "source": [
    "The plots for the 3 rfm factors reveal that frequency and monetary value are heavily skewed to the right, lower frequencies and smaller amounts of money being spent.  Recency is skewed to the right as while but not nearly as much as the other two factors. I will create quantiles and score the data to make further observations."
   ]
  },
  {
   "cell_type": "code",
   "execution_count": 8,
   "metadata": {},
   "outputs": [],
   "source": [
    "# Create column\n",
    "rfm['r'] = pd.qcut(rfm['recency'], q=5, labels=[5, 4, 3, 2, 1])\n",
    "rfm['f'] = pd.qcut(rfm['frequency'].rank(method='first'), q=5, labels=[1, 2, 3, 4, 5])\n",
    "rfm['m'] = pd.qcut(rfm['monetary'], q=5, labels=[1, 2, 3, 4, 5])"
   ]
  },
  {
   "cell_type": "code",
   "execution_count": 9,
   "metadata": {},
   "outputs": [
    {
     "data": {
      "text/html": [
       "<div>\n",
       "<style scoped>\n",
       "    .dataframe tbody tr th:only-of-type {\n",
       "        vertical-align: middle;\n",
       "    }\n",
       "\n",
       "    .dataframe tbody tr th {\n",
       "        vertical-align: top;\n",
       "    }\n",
       "\n",
       "    .dataframe thead th {\n",
       "        text-align: right;\n",
       "    }\n",
       "</style>\n",
       "<table border=\"1\" class=\"dataframe\">\n",
       "  <thead>\n",
       "    <tr style=\"text-align: right;\">\n",
       "      <th></th>\n",
       "      <th>Customer ID</th>\n",
       "      <th>Order Date</th>\n",
       "      <th>recency</th>\n",
       "      <th>frequency</th>\n",
       "      <th>monetary</th>\n",
       "      <th>r</th>\n",
       "      <th>f</th>\n",
       "      <th>m</th>\n",
       "    </tr>\n",
       "  </thead>\n",
       "  <tbody>\n",
       "    <tr>\n",
       "      <th>0</th>\n",
       "      <td>7ac26eac431c6848694a2de6f0327524</td>\n",
       "      <td>2017-03-23</td>\n",
       "      <td>529</td>\n",
       "      <td>1</td>\n",
       "      <td>109.9</td>\n",
       "      <td>1</td>\n",
       "      <td>1</td>\n",
       "      <td>4</td>\n",
       "    </tr>\n",
       "    <tr>\n",
       "      <th>1</th>\n",
       "      <td>106106992030e0d83e6f1bc9d4054070</td>\n",
       "      <td>2017-05-18</td>\n",
       "      <td>473</td>\n",
       "      <td>1</td>\n",
       "      <td>179.9</td>\n",
       "      <td>1</td>\n",
       "      <td>1</td>\n",
       "      <td>5</td>\n",
       "    </tr>\n",
       "    <tr>\n",
       "      <th>2</th>\n",
       "      <td>fd01a8dd276ac93aec73fde385389de9</td>\n",
       "      <td>2017-12-02</td>\n",
       "      <td>275</td>\n",
       "      <td>1</td>\n",
       "      <td>49.9</td>\n",
       "      <td>3</td>\n",
       "      <td>1</td>\n",
       "      <td>2</td>\n",
       "    </tr>\n",
       "    <tr>\n",
       "      <th>3</th>\n",
       "      <td>1d74273c053909be057f50f65b48522f</td>\n",
       "      <td>2017-12-09</td>\n",
       "      <td>268</td>\n",
       "      <td>1</td>\n",
       "      <td>99.9</td>\n",
       "      <td>3</td>\n",
       "      <td>1</td>\n",
       "      <td>3</td>\n",
       "    </tr>\n",
       "    <tr>\n",
       "      <th>4</th>\n",
       "      <td>c7e193525b2825ccfe5c65875c0db1dc</td>\n",
       "      <td>2018-02-18</td>\n",
       "      <td>197</td>\n",
       "      <td>1</td>\n",
       "      <td>149.0</td>\n",
       "      <td>3</td>\n",
       "      <td>1</td>\n",
       "      <td>4</td>\n",
       "    </tr>\n",
       "  </tbody>\n",
       "</table>\n",
       "</div>"
      ],
      "text/plain": [
       "                        Customer ID  Order Date  recency  frequency  monetary  \\\n",
       "0  7ac26eac431c6848694a2de6f0327524  2017-03-23      529          1     109.9   \n",
       "1  106106992030e0d83e6f1bc9d4054070  2017-05-18      473          1     179.9   \n",
       "2  fd01a8dd276ac93aec73fde385389de9  2017-12-02      275          1      49.9   \n",
       "3  1d74273c053909be057f50f65b48522f  2017-12-09      268          1      99.9   \n",
       "4  c7e193525b2825ccfe5c65875c0db1dc  2018-02-18      197          1     149.0   \n",
       "\n",
       "   r  f  m  \n",
       "0  1  1  4  \n",
       "1  1  1  5  \n",
       "2  3  1  2  \n",
       "3  3  1  3  \n",
       "4  3  1  4  "
      ]
     },
     "execution_count": 9,
     "metadata": {},
     "output_type": "execute_result"
    }
   ],
   "source": [
    "rfm.head()"
   ]
  },
  {
   "cell_type": "code",
   "execution_count": 10,
   "metadata": {},
   "outputs": [
    {
     "data": {
      "text/html": [
       "<div>\n",
       "<style scoped>\n",
       "    .dataframe tbody tr th:only-of-type {\n",
       "        vertical-align: middle;\n",
       "    }\n",
       "\n",
       "    .dataframe tbody tr th {\n",
       "        vertical-align: top;\n",
       "    }\n",
       "\n",
       "    .dataframe thead th {\n",
       "        text-align: right;\n",
       "    }\n",
       "</style>\n",
       "<table border=\"1\" class=\"dataframe\">\n",
       "  <thead>\n",
       "    <tr style=\"text-align: right;\">\n",
       "      <th></th>\n",
       "      <th>Customer ID</th>\n",
       "      <th>Order Date</th>\n",
       "      <th>recency</th>\n",
       "      <th>frequency</th>\n",
       "      <th>monetary</th>\n",
       "      <th>r</th>\n",
       "      <th>f</th>\n",
       "      <th>m</th>\n",
       "      <th>rfm_score</th>\n",
       "    </tr>\n",
       "  </thead>\n",
       "  <tbody>\n",
       "    <tr>\n",
       "      <th>0</th>\n",
       "      <td>7ac26eac431c6848694a2de6f0327524</td>\n",
       "      <td>2017-03-23</td>\n",
       "      <td>529</td>\n",
       "      <td>1</td>\n",
       "      <td>109.9</td>\n",
       "      <td>1</td>\n",
       "      <td>1</td>\n",
       "      <td>4</td>\n",
       "      <td>6</td>\n",
       "    </tr>\n",
       "    <tr>\n",
       "      <th>1</th>\n",
       "      <td>106106992030e0d83e6f1bc9d4054070</td>\n",
       "      <td>2017-05-18</td>\n",
       "      <td>473</td>\n",
       "      <td>1</td>\n",
       "      <td>179.9</td>\n",
       "      <td>1</td>\n",
       "      <td>1</td>\n",
       "      <td>5</td>\n",
       "      <td>7</td>\n",
       "    </tr>\n",
       "    <tr>\n",
       "      <th>2</th>\n",
       "      <td>fd01a8dd276ac93aec73fde385389de9</td>\n",
       "      <td>2017-12-02</td>\n",
       "      <td>275</td>\n",
       "      <td>1</td>\n",
       "      <td>49.9</td>\n",
       "      <td>3</td>\n",
       "      <td>1</td>\n",
       "      <td>2</td>\n",
       "      <td>6</td>\n",
       "    </tr>\n",
       "    <tr>\n",
       "      <th>3</th>\n",
       "      <td>1d74273c053909be057f50f65b48522f</td>\n",
       "      <td>2017-12-09</td>\n",
       "      <td>268</td>\n",
       "      <td>1</td>\n",
       "      <td>99.9</td>\n",
       "      <td>3</td>\n",
       "      <td>1</td>\n",
       "      <td>3</td>\n",
       "      <td>7</td>\n",
       "    </tr>\n",
       "    <tr>\n",
       "      <th>4</th>\n",
       "      <td>c7e193525b2825ccfe5c65875c0db1dc</td>\n",
       "      <td>2018-02-18</td>\n",
       "      <td>197</td>\n",
       "      <td>1</td>\n",
       "      <td>149.0</td>\n",
       "      <td>3</td>\n",
       "      <td>1</td>\n",
       "      <td>4</td>\n",
       "      <td>8</td>\n",
       "    </tr>\n",
       "  </tbody>\n",
       "</table>\n",
       "</div>"
      ],
      "text/plain": [
       "                        Customer ID  Order Date  recency  frequency  monetary  \\\n",
       "0  7ac26eac431c6848694a2de6f0327524  2017-03-23      529          1     109.9   \n",
       "1  106106992030e0d83e6f1bc9d4054070  2017-05-18      473          1     179.9   \n",
       "2  fd01a8dd276ac93aec73fde385389de9  2017-12-02      275          1      49.9   \n",
       "3  1d74273c053909be057f50f65b48522f  2017-12-09      268          1      99.9   \n",
       "4  c7e193525b2825ccfe5c65875c0db1dc  2018-02-18      197          1     149.0   \n",
       "\n",
       "   r  f  m  rfm_score  \n",
       "0  1  1  4          6  \n",
       "1  1  1  5          7  \n",
       "2  3  1  2          6  \n",
       "3  3  1  3          7  \n",
       "4  3  1  4          8  "
      ]
     },
     "execution_count": 10,
     "metadata": {},
     "output_type": "execute_result"
    }
   ],
   "source": [
    "# Create rfm score column\n",
    "rfm['rfm_score'] = rfm['r'].astype(int) + rfm['f'].astype(int) + rfm['m'].astype(int)\n",
    "                            \n",
    "rfm.head()"
   ]
  }
 ],
 "metadata": {
  "kernelspec": {
   "display_name": "Python 3",
   "language": "python",
   "name": "python3"
  },
  "language_info": {
   "codemirror_mode": {
    "name": "ipython",
    "version": 3
   },
   "file_extension": ".py",
   "mimetype": "text/x-python",
   "name": "python",
   "nbconvert_exporter": "python",
   "pygments_lexer": "ipython3",
   "version": "3.8.5"
  }
 },
 "nbformat": 4,
 "nbformat_minor": 4
}
