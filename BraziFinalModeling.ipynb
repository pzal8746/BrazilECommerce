{
 "cells": [
  {
   "cell_type": "code",
   "execution_count": 1,
   "metadata": {},
   "outputs": [],
   "source": [
    "# import necessary libraries and modules\n",
    "import pandas as pd\n",
    "import numpy as np\n",
    "import os\n",
    "import matplotlib.pyplot as plt\n",
    "%matplotlib inline\n",
    "import seaborn as sns\n",
    "from sklearn.linear_model import LinearRegression\n",
    "from sklearn.cluster import KMeans\n",
    "from sklearn.neighbors import KNeighborsRegressor\n",
    "from sklearn.model_selection import train_test_split\n",
    "from sklearn.metrics import mean_absolute_error"
   ]
  },
  {
   "cell_type": "code",
   "execution_count": 2,
   "metadata": {},
   "outputs": [],
   "source": [
    "# create dataframe for modeling use\n",
    "df = pd.read_csv('C:\\\\Users\\\\phili\\\\Documents\\\\Downloads\\\\BrazilCapstone\\\\dup.csv')"
   ]
  },
  {
   "cell_type": "code",
   "execution_count": 3,
   "metadata": {},
   "outputs": [
    {
     "data": {
      "text/html": [
       "<div>\n",
       "<style scoped>\n",
       "    .dataframe tbody tr th:only-of-type {\n",
       "        vertical-align: middle;\n",
       "    }\n",
       "\n",
       "    .dataframe tbody tr th {\n",
       "        vertical-align: top;\n",
       "    }\n",
       "\n",
       "    .dataframe thead th {\n",
       "        text-align: right;\n",
       "    }\n",
       "</style>\n",
       "<table border=\"1\" class=\"dataframe\">\n",
       "  <thead>\n",
       "    <tr style=\"text-align: right;\">\n",
       "      <th></th>\n",
       "      <th>Unnamed: 0</th>\n",
       "      <th>Price_x</th>\n",
       "      <th>recency</th>\n",
       "      <th>frequency</th>\n",
       "      <th>monetary</th>\n",
       "    </tr>\n",
       "  </thead>\n",
       "  <tbody>\n",
       "    <tr>\n",
       "      <th>count</th>\n",
       "      <td>10881.000000</td>\n",
       "      <td>10881.000000</td>\n",
       "      <td>10881.000000</td>\n",
       "      <td>10881.000000</td>\n",
       "      <td>10881.000000</td>\n",
       "    </tr>\n",
       "    <tr>\n",
       "      <th>mean</th>\n",
       "      <td>40796.437000</td>\n",
       "      <td>101.486170</td>\n",
       "      <td>255.713629</td>\n",
       "      <td>1.735594</td>\n",
       "      <td>230.091791</td>\n",
       "    </tr>\n",
       "    <tr>\n",
       "      <th>std</th>\n",
       "      <td>27727.978065</td>\n",
       "      <td>135.662413</td>\n",
       "      <td>152.482434</td>\n",
       "      <td>0.954782</td>\n",
       "      <td>251.347716</td>\n",
       "    </tr>\n",
       "    <tr>\n",
       "      <th>min</th>\n",
       "      <td>66.000000</td>\n",
       "      <td>0.850000</td>\n",
       "      <td>0.000000</td>\n",
       "      <td>1.000000</td>\n",
       "      <td>9.000000</td>\n",
       "    </tr>\n",
       "    <tr>\n",
       "      <th>25%</th>\n",
       "      <td>16985.000000</td>\n",
       "      <td>39.000000</td>\n",
       "      <td>132.000000</td>\n",
       "      <td>1.000000</td>\n",
       "      <td>99.980000</td>\n",
       "    </tr>\n",
       "    <tr>\n",
       "      <th>50%</th>\n",
       "      <td>36999.000000</td>\n",
       "      <td>69.900000</td>\n",
       "      <td>240.000000</td>\n",
       "      <td>2.000000</td>\n",
       "      <td>164.990000</td>\n",
       "    </tr>\n",
       "    <tr>\n",
       "      <th>75%</th>\n",
       "      <td>61588.000000</td>\n",
       "      <td>119.900000</td>\n",
       "      <td>370.000000</td>\n",
       "      <td>2.000000</td>\n",
       "      <td>274.980000</td>\n",
       "    </tr>\n",
       "    <tr>\n",
       "      <th>max</th>\n",
       "      <td>101269.000000</td>\n",
       "      <td>4799.000000</td>\n",
       "      <td>729.000000</td>\n",
       "      <td>16.000000</td>\n",
       "      <td>7388.000000</td>\n",
       "    </tr>\n",
       "  </tbody>\n",
       "</table>\n",
       "</div>"
      ],
      "text/plain": [
       "          Unnamed: 0       Price_x       recency     frequency      monetary\n",
       "count   10881.000000  10881.000000  10881.000000  10881.000000  10881.000000\n",
       "mean    40796.437000    101.486170    255.713629      1.735594    230.091791\n",
       "std     27727.978065    135.662413    152.482434      0.954782    251.347716\n",
       "min        66.000000      0.850000      0.000000      1.000000      9.000000\n",
       "25%     16985.000000     39.000000    132.000000      1.000000     99.980000\n",
       "50%     36999.000000     69.900000    240.000000      2.000000    164.990000\n",
       "75%     61588.000000    119.900000    370.000000      2.000000    274.980000\n",
       "max    101269.000000   4799.000000    729.000000     16.000000   7388.000000"
      ]
     },
     "execution_count": 3,
     "metadata": {},
     "output_type": "execute_result"
    }
   ],
   "source": [
    "# Show important statistics regarding the dataframe, the monetary column will be the column target variable\n",
    "df.describe()"
   ]
  },
  {
   "cell_type": "code",
   "execution_count": 4,
   "metadata": {},
   "outputs": [],
   "source": [
    "# drop unnecessary variables\n",
    "df = df.drop(['Unnamed: 0','frequency'], axis = 1)"
   ]
  },
  {
   "cell_type": "code",
   "execution_count": 5,
   "metadata": {},
   "outputs": [],
   "source": [
    "# create dataframe of just repeat customers\n",
    "df = df[df.duplicated(subset=['Customer ID'], keep = False)]"
   ]
  },
  {
   "cell_type": "code",
   "execution_count": 6,
   "metadata": {},
   "outputs": [],
   "source": [
    "# susbset dataframe basec off repeat customers first transaction in order to predict repeat business\n",
    "df = df[df.duplicated(subset=['Customer ID'], keep = 'first')]"
   ]
  },
  {
   "cell_type": "code",
   "execution_count": 7,
   "metadata": {},
   "outputs": [],
   "source": [
    "# variables that will be used for modeling\n",
    "df = df[['Price_x', 'recency', 'monetary']]\n",
    "y = df['monetary'].values\n",
    "X = df.drop('monetary', axis = 1).values\n",
    "X_train, X_test, y_train, y_test = train_test_split(X, y, test_size=0.25, random_state=42)"
   ]
  },
  {
   "cell_type": "code",
   "execution_count": 8,
   "metadata": {},
   "outputs": [
    {
     "data": {
      "text/plain": [
       "247.2425017088175"
      ]
     },
     "execution_count": 8,
     "metadata": {},
     "output_type": "execute_result"
    }
   ],
   "source": [
    "# KMeans model\n",
    "kmeans = KMeans(n_clusters= 5, init='k-means++', random_state= 123)\n",
    "kmeans.fit(X_train, y_train)\n",
    "y_k = kmeans.predict(X_test)\n",
    "mean_absolute_error(y_k, y_test)"
   ]
  },
  {
   "cell_type": "code",
   "execution_count": 9,
   "metadata": {},
   "outputs": [
    {
     "data": {
      "text/plain": [
       "107.21414559125087"
      ]
     },
     "execution_count": 9,
     "metadata": {},
     "output_type": "execute_result"
    }
   ],
   "source": [
    "# KNeighbors model\n",
    "regressor = KNeighborsRegressor(n_neighbors = 4)\n",
    "regressor.fit(X_train, y_train)\n",
    "y_pred = regressor.predict(X_test)\n",
    "mean_absolute_error(y_test, y_pred)"
   ]
  },
  {
   "cell_type": "code",
   "execution_count": 10,
   "metadata": {},
   "outputs": [
    {
     "data": {
      "text/plain": [
       "93.87072297062626"
      ]
     },
     "execution_count": 10,
     "metadata": {},
     "output_type": "execute_result"
    }
   ],
   "source": [
    "# Linear Regression model\n",
    "lr_model = LinearRegression().fit(X, y)\n",
    "y_lr = lr_model.predict(X_test)\n",
    "mean_absolute_error(y_test, y_lr)"
   ]
  },
  {
   "cell_type": "code",
   "execution_count": 11,
   "metadata": {
    "scrolled": false
   },
   "outputs": [
    {
     "data": {
      "image/png": "[encoded data removed]",
      "text/plain": [
       "<Figure size 576x576 with 1 Axes>"
      ]
     },
     "metadata": {
      "needs_background": "light"
     },
     "output_type": "display_data"
    }
   ],
   "source": [
    "# Scatter plot comparing Actual versus Predicted values\n",
    "scatter, ax = plt.subplots(figsize = (8,8))\n",
    "ax = sns.scatterplot(x= y_test, y =y_lr)\n",
    "ax.set_xlim(left=0, right=3000)\n",
    "ax.set_ylim(bottom=0, top=3000)\n",
    "ax.set_xlabel(\"Monetary Actual Values\")\n",
    "ax.set_ylabel(\"Monetary Predicted Values\")\n",
    "plt.show()"
   ]
  }
 ],
 "metadata": {
  "kernelspec": {
   "display_name": "Python 3",
   "language": "python",
   "name": "python3"
  },
  "language_info": {
   "codemirror_mode": {
    "name": "ipython",
    "version": 3
   },
   "file_extension": ".py",
   "mimetype": "text/x-python",
   "name": "python",
   "nbconvert_exporter": "python",
   "pygments_lexer": "ipython3",
   "version": "3.8.5"
  }
 },
 "nbformat": 4,
 "nbformat_minor": 4
}
